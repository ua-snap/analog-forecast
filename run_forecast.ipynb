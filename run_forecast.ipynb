{
 "cells": [
  {
   "cell_type": "markdown",
   "id": "1c525b32-ff8c-4ff8-a1a3-ac2e7c69e4ca",
   "metadata": {},
   "source": [
    "# Run the Analog Forecast\n",
    "\n",
    "Use this notebook to run the analog forecast for any date that is not present in the historical dataset. I.e., if you want to make an actualy forecast, or a hindcast for some date in 2022."
   ]
  },
  {
   "cell_type": "code",
   "execution_count": 8,
   "id": "1ce462c8-02d3-4159-b105-9c87c69a22f6",
   "metadata": {},
   "outputs": [],
   "source": [
    "import pandas as pd\n",
    "import xarray as xr\n",
    "from scripts.download_era5 import download\n",
    "from config import data_dir\n",
    "import luts\n",
    "import analog_forecast as af"
   ]
  },
  {
   "cell_type": "markdown",
   "id": "60e77218-0c85-4fd5-9ae4-21cd9fc8d5d0",
   "metadata": {},
   "source": [
    "Run this mega cell to make a forecast, supply the desired dates at the top:"
   ]
  },
  {
   "cell_type": "code",
   "execution_count": 74,
   "id": "1dc4a792-47fe-4906-8e89-06940ac85e94",
   "metadata": {},
   "outputs": [
    {
     "name": "stderr",
     "output_type": "stream",
     "text": [
      "                                                                                                                                        \r"
     ]
    },
    {
     "name": "stdout",
     "output_type": "stream",
     "text": [
      "   Top 5 Analogs: \n",
      "Rank 1:   Date: 1969-04-14;  RMSE: 3.073\n",
      "Rank 2:   Date: 2017-09-14;  RMSE: 3.088\n",
      "Rank 3:   Date: 2001-04-09;  RMSE: 3.144\n",
      "Rank 4:   Date: 2009-03-01;  RMSE: 3.176\n",
      "Rank 5:   Date: 1984-01-19;  RMSE: 3.188\n",
      "Forecast in C for 2023-03-03 [-3.67]\n",
      "CPU times: user 5.22 s, sys: 8.37 s, total: 13.6 s\n",
      "Wall time: 16.1 s\n"
     ]
    }
   ],
   "source": [
    "%%time\n",
    "varname = \"t2m\"\n",
    "spatial_domain = \"alaska\"\n",
    "ref_date = pd.to_datetime(\"2023-02-25\")\n",
    "use_anom = True\n",
    "forecast_date = \"2023-03-03\"\n",
    "\n",
    "bbox = list(luts.spatial_domains[spatial_domain][\"bbox\"])\n",
    "# ERA5 at CDS API needs [N, W, S, E]\n",
    "bbox = [bbox[-1]] + bbox[:3] \n",
    "\n",
    "cretrieve_kwargs = {   \n",
    "    \"product_type\": \"reanalysis\",\n",
    "    \"format\": \"netcdf\",\n",
    "    # only going through 2022 right now to avoid getting \"expver=5\" (initial release data)\n",
    "    \"year\": ref_date.year,\n",
    "    \"month\": str(ref_date.month).zfill(2),\n",
    "    \"day\": str(ref_date.day).zfill(2),\n",
    "    \"time\": \"12:00\",\n",
    "    \"area\": bbox,\n",
    "}\n",
    "\n",
    "out_paths = download(\n",
    "    data_dir,\n",
    "    dataset=luts.varnames_lu[varname][\"era5_dataset_name\"],\n",
    "    varnames=luts.varnames_lu[varname][\"era5_long_name\"],\n",
    "    cretrieve_kwargs=cretrieve_kwargs,\n",
    "    fn_suffix=f\"{ref_date.strftime('%Y%m%d')}\"\n",
    ")\n",
    "ref_fp = out_paths[0]\n",
    "\n",
    "ref_da = xr.load_dataset(ref_fp)[varname]\n",
    "\n",
    "sub_da = af.read_subset_era5(spatial_domain, data_dir, varname, use_anom=use_anom)\n",
    "# need to load and subset raw data as wel for forecast with anomaly based search\n",
    "if use_anom:\n",
    "    raw_sub_da = af.read_subset_era5(spatial_domain, data_dir, varname, use_anom=False)\n",
    "    # compute the climatology from the raw data for the day of year of the reference date\n",
    "    clim_da = raw_sub_da.sel(time=raw_sub_da.time[sub_da.dayofyear == ref_date.dayofyear]).mean(dim=\"time\")\n",
    "    ref_anom_da = ref_da - clim_da\n",
    "    # append this to the sub_da\n",
    "    sub_da = xr.concat([sub_da.drop(\"dayofyear\"), ref_anom_da], dim=\"time\")\n",
    "else:\n",
    "    raw_sub_da = sub_da\n",
    "    \n",
    "analogs = af.find_analogs(sub_da, ref_date.strftime('%Y-%m-%d'), print_analogs=True)\n",
    "forecast = af.make_forecast(raw_sub_da, analogs.time.values, ref_date.strftime('%Y-%m-%d')) - 273.15\n",
    "print(\n",
    "    f\"\\nForecast in C for {forecast_date}:\",\n",
    "    forecast.sel(\n",
    "        latitude=58.3005, longitude=-134.4201, method=\"nearest\"\n",
    "    ).sel(time=forecast_date).round(2).values[0]\n",
    "    end=\"\\n\"\n",
    ")"
   ]
  },
  {
   "cell_type": "markdown",
   "id": "e8aa47f5-73fb-4442-a440-da49c3c553a8",
   "metadata": {},
   "source": [
    "end"
   ]
  }
 ],
 "metadata": {
  "kernelspec": {
   "display_name": "Python 3 (ipykernel)",
   "language": "python",
   "name": "python3"
  },
  "language_info": {
   "codemirror_mode": {
    "name": "ipython",
    "version": 3
   },
   "file_extension": ".py",
   "mimetype": "text/x-python",
   "name": "python",
   "nbconvert_exporter": "python",
   "pygments_lexer": "ipython3",
   "version": "3.9.15"
  }
 },
 "nbformat": 4,
 "nbformat_minor": 5
}
