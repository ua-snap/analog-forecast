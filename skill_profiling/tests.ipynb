{
 "cells": [
  {
   "cell_type": "markdown",
   "id": "bda9caae-006b-44ad-8423-3154b7a80850",
   "metadata": {},
   "source": [
    "# Tests for the skill profiling framework\n",
    "\n",
    "Run some tests on functions used in the skill profiling framework."
   ]
  },
  {
   "cell_type": "code",
   "execution_count": 103,
   "id": "77aca805-4b5d-446f-880c-da4061977afe",
   "metadata": {},
   "outputs": [],
   "source": [
    "import pandas as pd\n",
    "import numpy as np\n",
    "\n",
    "# local imports\n",
    "from config import data_dir\n",
    "from analog_forecast import read_subset_era5\n",
    "from run_profile import get_naive_sample_dates, profile_naive_forecast"
   ]
  },
  {
   "cell_type": "markdown",
   "id": "33288fb0-d62b-43f8-8f5a-938b63a79ef4",
   "metadata": {},
   "source": [
    "Load a dataset (spatial subset) for doing some testing with."
   ]
  },
  {
   "cell_type": "code",
   "execution_count": 2,
   "id": "a6175b32-ce7c-43db-a3f1-e9767313517f",
   "metadata": {},
   "outputs": [
    {
     "name": "stdout",
     "output_type": "stream",
     "text": [
      "CPU times: user 4.98 s, sys: 9.69 s, total: 14.7 s\n",
      "Wall time: 44.6 s\n"
     ]
    }
   ],
   "source": [
    "%%time\n",
    "\n",
    "varname = \"t2m\"\n",
    "spatial_domain = \"alaska\"\n",
    "ref_date = \"2004-10-11\"\n",
    "\n",
    "raw_sub_da = read_subset_era5(spatial_domain, data_dir, varname, use_anom=False).load()"
   ]
  },
  {
   "cell_type": "markdown",
   "id": "47e2d804-9054-441c-9dd3-8231a5218e1a",
   "metadata": {},
   "source": [
    "`get_naive_sample_dates` should return a tuple of (\"list of naive analog dates and 14 dates for each\" (`all_naive_dates` below), \"list of naive analog dates\" (`naive_analog_dates` below). Run some verifications."
   ]
  },
  {
   "cell_type": "code",
   "execution_count": 104,
   "id": "664433b8-bc10-4751-8b7a-2de22260755c",
   "metadata": {},
   "outputs": [],
   "source": [
    "all_times = raw_sub_da.time.values\n",
    "all_naive_dates, naive_analog_dates = get_naive_sample_dates(all_times, ref_date)"
   ]
  },
  {
   "cell_type": "markdown",
   "id": "d6d44668-4f57-4fcd-abd6-99ad3b9387f9",
   "metadata": {},
   "source": [
    "`naive_analog_dates` should be contained within the `all_naive_dates` (ok if type is different):"
   ]
  },
  {
   "cell_type": "code",
   "execution_count": 105,
   "id": "4b53bb30-52c4-4c45-8ab3-336c4af32a8f",
   "metadata": {},
   "outputs": [],
   "source": [
    "assert np.all([dt in all_naive_dates for dt in naive_analog_dates])"
   ]
  },
  {
   "cell_type": "markdown",
   "id": "e6dab328-399d-4e84-a03e-2c3611019ba4",
   "metadata": {},
   "source": [
    "`naive_analog_dates` should not contain dates that are within 15 days of forecast date:"
   ]
  },
  {
   "cell_type": "code",
   "execution_count": 106,
   "id": "47905915-8f88-4bcd-8ada-d99cfc6de120",
   "metadata": {},
   "outputs": [],
   "source": [
    "ref_dt = pd.to_datetime(ref_date + \" 12:00:00\")\n",
    "forecast_length = 14\n",
    "between = pd.Series(naive_analog_dates).between(\n",
    "    ref_dt - pd.to_timedelta(forecast_length + 2, \"D\"),\n",
    "    ref_dt + pd.to_timedelta(forecast_length + 1, \"D\")\n",
    ")\n",
    "assert np.all(~between)"
   ]
  },
  {
   "cell_type": "markdown",
   "id": "dc14da37-6b3c-4dc8-91f1-ba1d68f81052",
   "metadata": {},
   "source": [
    "`naive_analog_dates` should all be within +/- 45 days of day-of-year of `ref_date`:"
   ]
  },
  {
   "cell_type": "code",
   "execution_count": 197,
   "id": "af978287-7fb6-4128-89f7-fe2e872f701a",
   "metadata": {},
   "outputs": [],
   "source": [
    "ref_day = ref_dt.day\n",
    "ref_month = ref_dt.month\n",
    "\n",
    "# define a function to check that the chosen analog is within +/- 45 days of the\n",
    "#  date corresponding to the same day of year as reference date\n",
    "def check_analog_in_window(dt, ref_month, ref_day):\n",
    "    dt = pd.to_datetime(dt)\n",
    "    year = pd.to_datetime(dt).year\n",
    "    tmp_ref_dt = pd.to_datetime(f\"{year}-{ref_month}-{ref_day} 12:00:00\")\n",
    "    td_offset = pd.to_timedelta(45, \"D\")\n",
    "    start_window = tmp_ref_dt - (td_offset + pd.to_timedelta(1, \"D\"))\n",
    "    end_window = tmp_ref_dt + td_offset\n",
    "    test = pd.Series(tmp_ref_dt).between(start_window, end_window)\n",
    "\n",
    "    return test\n",
    "\n",
    "# \n",
    "assert np.all([get_window_from_analog_date(dt, ref_month, ref_day) for dt in naive_analog_dates])"
   ]
  },
  {
   "cell_type": "markdown",
   "id": "26838b45-6c2d-496f-92a0-6dafa4441752",
   "metadata": {},
   "source": [
    "end"
   ]
  }
 ],
 "metadata": {
  "kernelspec": {
   "display_name": "Python 3 (ipykernel)",
   "language": "python",
   "name": "python3"
  },
  "language_info": {
   "codemirror_mode": {
    "name": "ipython",
    "version": 3
   },
   "file_extension": ".py",
   "mimetype": "text/x-python",
   "name": "python",
   "nbconvert_exporter": "python",
   "pygments_lexer": "ipython3",
   "version": "3.9.15"
  }
 },
 "nbformat": 4,
 "nbformat_minor": 5
}
