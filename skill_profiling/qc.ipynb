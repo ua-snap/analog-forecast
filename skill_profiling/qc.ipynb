{
 "cells": [
  {
   "cell_type": "markdown",
   "id": "a62e8025-0d4f-4a62-aedb-cb439e487356",
   "metadata": {},
   "source": [
    "# Quality control for profiling analysis\n",
    "\n",
    "Use this notebook to perform some quality checks of the profiling analysis."
   ]
  },
  {
   "cell_type": "code",
   "execution_count": 45,
   "id": "6ecd9869-1d69-49b8-afe0-afdf11c96847",
   "metadata": {},
   "outputs": [],
   "source": [
    "import os\n",
    "from pathlib import Path\n",
    "import matplotlib.pyplot as plt\n",
    "import pandas as pd\n",
    "import xarray as xr\n",
    "import numpy as np\n",
    "# local\n",
    "import luts\n",
    "from config import data_dir\n",
    "import analog_forecast as af\n",
    "from run_naive_forecast import get_naive_sample_dates\n",
    "from run_profile import forecast_and_error"
   ]
  },
  {
   "cell_type": "markdown",
   "id": "9fcb78a7-7085-4184-871c-b82f602c4f3c",
   "metadata": {},
   "source": [
    "Load and concatenate the results into single tables.\n",
    "\n",
    "Analog and naive forecast results:"
   ]
  },
  {
   "cell_type": "code",
   "execution_count": 18,
   "id": "5531e8fb-8b6c-4e53-8774-c016ba352f27",
   "metadata": {},
   "outputs": [],
   "source": [
    "analog_df = pd.concat([\n",
    "    pd.read_csv(fp) for fp in Path(\"results\").glob(\"*.csv\") \n",
    "    if ((\"naive\" not in fp.name) and (\"dates\" not in fp.name))\n",
    "])\n",
    "naive_df = pd.concat([pd.read_csv(fp) for fp in Path(\"results\").glob(\"*naive.csv\")])"
   ]
  },
  {
   "cell_type": "markdown",
   "id": "c9c69063-76bc-40d2-8be3-220ea9bef930",
   "metadata": {},
   "source": [
    "The top analogs were saved as separate tables, combine those as well:"
   ]
  },
  {
   "cell_type": "code",
   "execution_count": 112,
   "id": "6e57e643-9633-4b3b-a544-3edd53d5d3fe",
   "metadata": {},
   "outputs": [],
   "source": [
    "analog_dates = pd.concat([\n",
    "    pd.read_csv(fp, dtype=dict(analog_score=np.float32)) \n",
    "    for fp in Path(\"results\").glob(\"*dates.csv\")\n",
    "])"
   ]
  },
  {
   "cell_type": "markdown",
   "id": "2854b1f9-a804-4824-8655-bd1280912954",
   "metadata": {},
   "source": [
    "## QC\n",
    "\n",
    "### Analog profiling\n",
    "\n",
    "Here we will validate the analog forecast profiling results. Let's take the first result (row) and manually check each aspect of the algorithm."
   ]
  },
  {
   "cell_type": "code",
   "execution_count": 4,
   "id": "05aea626-1c1f-42a9-97e2-c86a9a831e49",
   "metadata": {},
   "outputs": [
    {
     "data": {
      "text/plain": [
       "variable                      sst\n",
       "search_domain              alaska\n",
       "forecast_domain            alaska\n",
       "anomaly_search               True\n",
       "reference_date         2004-10-08\n",
       "forecast_day_number             1\n",
       "forecast_error              1.331\n",
       "Name: 0, dtype: object"
      ]
     },
     "execution_count": 4,
     "metadata": {},
     "output_type": "execute_result"
    }
   ],
   "source": [
    "row = analog_df.iloc[0]\n",
    "row"
   ]
  },
  {
   "cell_type": "markdown",
   "id": "c49ae934-323b-460b-a116-a9106b241271",
   "metadata": {},
   "source": [
    "Load the ERA5 data that we will use to search and generate forecasts:"
   ]
  },
  {
   "cell_type": "code",
   "execution_count": 5,
   "id": "4e47df8b-c337-4efe-9471-d672bc4c768b",
   "metadata": {},
   "outputs": [
    {
     "name": "stdout",
     "output_type": "stream",
     "text": [
      "CPU times: user 263 ms, sys: 35.1 s, total: 35.4 s\n",
      "Wall time: 52.5 s\n"
     ]
    }
   ],
   "source": [
    "%%time\n",
    "varname = row[\"variable\"]\n",
    "ref_date = row[\"reference_date\"]\n",
    "ds = xr.load_dataset(data_dir.joinpath(luts.varnames_lu[varname][\"anom_filename\"]))"
   ]
  },
  {
   "cell_type": "markdown",
   "id": "7ee56d0a-9ba0-4b7e-b037-4e990293464d",
   "metadata": {},
   "source": [
    "Subset to the spatial domain:"
   ]
  },
  {
   "cell_type": "code",
   "execution_count": 6,
   "id": "b62497cd-5bab-4d0d-91f7-b15ad496a553",
   "metadata": {},
   "outputs": [
    {
     "name": "stdout",
     "output_type": "stream",
     "text": [
      "Original shape: (23011, 361, 1440)\n",
      "Shape after spatial subset: (23011, 129, 221)\n"
     ]
    }
   ],
   "source": [
    "search_domain = row[\"search_domain\"]\n",
    "search_bbox = luts.spatial_domains[search_domain][\"bbox\"]\n",
    "search_da = ds[varname].sel(\n",
    "    latitude=slice(search_bbox[3], search_bbox[1]),\n",
    "    longitude=slice(search_bbox[0], search_bbox[2])\n",
    ")\n",
    "print(\"Original shape:\", ds[varname].shape)\n",
    "print(\"Shape after spatial subset:\", search_da.shape)"
   ]
  },
  {
   "cell_type": "markdown",
   "id": "3d5793a3-9185-4e4f-8011-6a121393651b",
   "metadata": {},
   "source": [
    "Find the analogs from the search data:"
   ]
  },
  {
   "cell_type": "code",
   "execution_count": 7,
   "id": "4cbc7834-9565-499f-ab10-391d00774b18",
   "metadata": {},
   "outputs": [
    {
     "name": "stdout",
     "output_type": "stream",
     "text": [
      "CPU times: user 3.66 s, sys: 7.85 s, total: 11.5 s\n",
      "Wall time: 11.5 s\n"
     ]
    }
   ],
   "source": [
    "%%time\n",
    "analogs = af.find_analogs(search_da, ref_date=ref_date)"
   ]
  },
  {
   "cell_type": "markdown",
   "id": "c56844b8-549a-4b3e-a8b7-f2e94450f2da",
   "metadata": {},
   "source": [
    "Check that the analogs found here match what was found in the skill profiling framework:"
   ]
  },
  {
   "cell_type": "code",
   "execution_count": 8,
   "id": "8f9369fe-a5a1-44af-977e-75c4b1900b8d",
   "metadata": {},
   "outputs": [],
   "source": [
    "profile_dates = analog_dates.query(\n",
    "    (\n",
    "        \"variable == @varname\" \n",
    "        \"& search_domain == @search_domain\"\n",
    "        f\"& forecast_domain == '{row['forecast_domain']}'\"\n",
    "        f\"& anomaly_search == {row['anomaly_search']}\"\n",
    "        f\"& reference_date == '{row['reference_date']}'\"\n",
    "    )\n",
    ").analog_date.values\n",
    "check_dates = analogs.time.dt.strftime(\"%Y-%m-%d\").values\n",
    "\n",
    "assert all(check_dates == profile_dates)"
   ]
  },
  {
   "cell_type": "markdown",
   "id": "bd9e5850-86e0-413e-b68c-1731b122de6e",
   "metadata": {},
   "source": [
    "Load the raw value version for generating and checking the forecast:"
   ]
  },
  {
   "cell_type": "code",
   "execution_count": 9,
   "id": "77b8286a-6c78-4f9f-bed9-87759b7574ca",
   "metadata": {},
   "outputs": [
    {
     "name": "stdout",
     "output_type": "stream",
     "text": [
      "CPU times: user 1min 9s, sys: 1min 29s, total: 2min 38s\n",
      "Wall time: 2min 39s\n"
     ]
    }
   ],
   "source": [
    "%%time\n",
    "raw_ds = xr.load_dataset(data_dir.joinpath(luts.varnames_lu[varname][\"filename\"]))"
   ]
  },
  {
   "cell_type": "markdown",
   "id": "c623d9b1-4585-4ab6-b893-ebf0788dee4b",
   "metadata": {},
   "source": [
    "Subset the raw data spatially and compute the forecast as the mean of the arrays for day t+1 for each of the analogs:"
   ]
  },
  {
   "cell_type": "code",
   "execution_count": 10,
   "id": "9bfe6562-ebae-4eb9-87af-94abc8b62b43",
   "metadata": {},
   "outputs": [],
   "source": [
    "forecast_domain = row[\"forecast_domain\"]\n",
    "forecast_bbox = luts.spatial_domains[forecast_domain][\"bbox\"]\n",
    "raw_da = raw_ds[varname].sel(\n",
    "    latitude=slice(forecast_bbox[3], forecast_bbox[1]),\n",
    "    longitude=slice(forecast_bbox[0], forecast_bbox[2])\n",
    ")\n",
    "forecast = (raw_da.sel(time=analogs.time.values + pd.to_timedelta(1, \"d\")).values).mean(axis=0)"
   ]
  },
  {
   "cell_type": "markdown",
   "id": "8f87de0a-67ed-4482-8afb-2380c24aa89b",
   "metadata": {},
   "source": [
    "Compute the RMSE between forecast and the date after the reference date, and cross check with the results:"
   ]
  },
  {
   "cell_type": "code",
   "execution_count": 11,
   "id": "d0007f09-a918-479d-85f3-358b14e4a21c",
   "metadata": {},
   "outputs": [],
   "source": [
    "test_rmse = np.sqrt(\n",
    "    ((raw_da.sel(\n",
    "        time=pd.to_datetime(ref_date + \" 12:00:00\") + pd.to_timedelta(1, \"d\")\n",
    "    ) - forecast) ** 2).mean()\n",
    ").round(3)\n",
    "\n",
    "assert test_rmse == row[\"forecast_error\"].astype(np.float32)"
   ]
  },
  {
   "cell_type": "markdown",
   "id": "c2f07a96-a0fc-419e-bf9d-887e8b23f0fb",
   "metadata": {},
   "source": [
    "Make sure memory is freed up for loading different datasets:"
   ]
  },
  {
   "cell_type": "code",
   "execution_count": 12,
   "id": "a438552c-1b82-44d1-b57d-bd1e2f528439",
   "metadata": {},
   "outputs": [
    {
     "data": {
      "text/plain": [
       "46"
      ]
     },
     "execution_count": 12,
     "metadata": {},
     "output_type": "execute_result"
    }
   ],
   "source": [
    "import gc\n",
    "try:\n",
    "    del ds\n",
    "    del raw_da\n",
    "    del raw_ds\n",
    "except:\n",
    "    pass\n",
    "gc.collect()"
   ]
  },
  {
   "cell_type": "markdown",
   "id": "2a2b3a1f-13b3-4720-8638-26de1148f2da",
   "metadata": {},
   "source": [
    "Do the same as above for other profiling results with some different variables, spatial domains, etc:"
   ]
  },
  {
   "cell_type": "code",
   "execution_count": 13,
   "id": "959a6c10-2bac-4122-a05a-80c10ce7bbb2",
   "metadata": {},
   "outputs": [],
   "source": [
    "def validate_row(row):\n",
    "    varname = row[\"variable\"]\n",
    "    ref_date = row[\"reference_date\"]\n",
    "    search_domain = row[\"search_domain\"]\n",
    "    search_bbox = luts.spatial_domains[search_domain][\"bbox\"]\n",
    "    forecast_domain = row[\"forecast_domain\"]\n",
    "    forecast_bbox = luts.spatial_domains[forecast_domain][\"bbox\"]\n",
    "    date_offset = row[\"forecast_day_number\"]\n",
    "\n",
    "    if row[\"anomaly_search\"] == True:\n",
    "        ds = xr.open_dataset(data_dir.joinpath(luts.varnames_lu[varname][\"anom_filename\"]))\n",
    "        search_da = af.spatial_subset(ds[varname], search_bbox)\n",
    "        raw_ds = xr.open_dataset(data_dir.joinpath(luts.varnames_lu[varname][\"filename\"]))\n",
    "        raw_da = af.spatial_subset(raw_ds[varname], forecast_bbox)\n",
    "    else:\n",
    "        ds = xr.open_dataset(data_dir.joinpath(luts.varnames_lu[varname][\"filename\"]))\n",
    "        search_da = af.spatial_subset(ds[varname], search_bbox)\n",
    "        raw_da = af.spatial_subset(ds[varname], forecast_bbox)\n",
    "\n",
    "    analogs = af.find_analogs(search_da, ref_date=ref_date)\n",
    "    \n",
    "    # validate selected analog dates\n",
    "    profile_dates = analog_dates.query(\n",
    "        (\n",
    "            \"variable == @varname\" \n",
    "            \"& search_domain == @search_domain\"\n",
    "            \"& forecast_domain == @forecast_domain\"\n",
    "            f\"& anomaly_search == {row['anomaly_search']}\"\n",
    "            f\"& reference_date == '{row['reference_date']}'\"\n",
    "        )\n",
    "    ).analog_date.values\n",
    "    check_dates = analogs.time.dt.strftime(\"%Y-%m-%d\").values\n",
    "    assert all(check_dates == profile_dates)\n",
    "    \n",
    "    # validate forecast error\n",
    "    forecast = (raw_da.sel(time=analogs.time.values + pd.to_timedelta(date_offset, \"d\")).values).mean(axis=0)\n",
    "    test_rmse = np.sqrt(\n",
    "        ((raw_da.sel(\n",
    "            time=pd.to_datetime(ref_date + \" 12:00:00\") + pd.to_timedelta(date_offset, \"d\")\n",
    "        ) - forecast) ** 2).mean()\n",
    "    ).round(3)\n",
    "    assert test_rmse == row[\"forecast_error\"].astype(np.float32)"
   ]
  },
  {
   "cell_type": "code",
   "execution_count": 14,
   "id": "5fed46e7-95b0-447b-93b1-a7dfee6f07ac",
   "metadata": {
    "tags": []
   },
   "outputs": [
    {
     "name": "stdout",
     "output_type": "stream",
     "text": [
      "CPU times: user 1min 11s, sys: 1min 49s, total: 3min 1s\n",
      "Wall time: 3min 7s\n"
     ]
    }
   ],
   "source": [
    "%%time\n",
    "row = analog_df.query(\"variable == 'sst'\").iloc[-1]\n",
    "validate_row(row)"
   ]
  },
  {
   "cell_type": "code",
   "execution_count": 15,
   "id": "63cd275e-c21f-4abf-bd9b-605727f74ea7",
   "metadata": {},
   "outputs": [
    {
     "name": "stdout",
     "output_type": "stream",
     "text": [
      "CPU times: user 8.48 s, sys: 25.9 s, total: 34.3 s\n",
      "Wall time: 1min 4s\n"
     ]
    }
   ],
   "source": [
    "%%time\n",
    "row = analog_df.query(\"variable == 'msl'\").iloc[300]\n",
    "validate_row(row)"
   ]
  },
  {
   "cell_type": "code",
   "execution_count": 16,
   "id": "876a94ff-e9d4-4980-b81d-20e66435fa2e",
   "metadata": {},
   "outputs": [
    {
     "name": "stdout",
     "output_type": "stream",
     "text": [
      "CPU times: user 5.62 s, sys: 8.51 s, total: 14.1 s\n",
      "Wall time: 14.1 s\n"
     ]
    }
   ],
   "source": [
    "%%time\n",
    "analog_df.query(\"variable == 'z'\").iloc[500]\n",
    "validate_row(row)"
   ]
  },
  {
   "cell_type": "markdown",
   "id": "a44ccefa-bfc9-4eca-8086-acd924bbf13f",
   "metadata": {},
   "source": [
    "### Analog dates\n",
    "\n",
    "Here we will validate the chosen analogs. This is technically part of the process tested above, but given some unexpectedly poor skill with the anomaly-based forecasts at the time of developing this section, we will have a closer look.\n",
    "\n"
   ]
  },
  {
   "cell_type": "code",
   "execution_count": 113,
   "id": "37bf6607-7ef8-4236-8382-2d0d473c4d58",
   "metadata": {},
   "outputs": [
    {
     "data": {
      "text/html": [
       "<div>\n",
       "<style scoped>\n",
       "    .dataframe tbody tr th:only-of-type {\n",
       "        vertical-align: middle;\n",
       "    }\n",
       "\n",
       "    .dataframe tbody tr th {\n",
       "        vertical-align: top;\n",
       "    }\n",
       "\n",
       "    .dataframe thead th {\n",
       "        text-align: right;\n",
       "    }\n",
       "</style>\n",
       "<table border=\"1\" class=\"dataframe\">\n",
       "  <thead>\n",
       "    <tr style=\"text-align: right;\">\n",
       "      <th></th>\n",
       "      <th>variable</th>\n",
       "      <th>search_domain</th>\n",
       "      <th>forecast_domain</th>\n",
       "      <th>anomaly_search</th>\n",
       "      <th>reference_date</th>\n",
       "      <th>analog_date</th>\n",
       "      <th>analog_score</th>\n",
       "    </tr>\n",
       "  </thead>\n",
       "  <tbody>\n",
       "    <tr>\n",
       "      <th>0</th>\n",
       "      <td>t2m</td>\n",
       "      <td>alaska</td>\n",
       "      <td>alaska</td>\n",
       "      <td>True</td>\n",
       "      <td>2004-10-08</td>\n",
       "      <td>2005-09-17</td>\n",
       "      <td>1.856</td>\n",
       "    </tr>\n",
       "    <tr>\n",
       "      <th>1</th>\n",
       "      <td>t2m</td>\n",
       "      <td>alaska</td>\n",
       "      <td>alaska</td>\n",
       "      <td>True</td>\n",
       "      <td>2004-10-08</td>\n",
       "      <td>1997-09-09</td>\n",
       "      <td>1.979</td>\n",
       "    </tr>\n",
       "    <tr>\n",
       "      <th>2</th>\n",
       "      <td>t2m</td>\n",
       "      <td>alaska</td>\n",
       "      <td>alaska</td>\n",
       "      <td>True</td>\n",
       "      <td>2004-10-08</td>\n",
       "      <td>2007-08-31</td>\n",
       "      <td>2.111</td>\n",
       "    </tr>\n",
       "    <tr>\n",
       "      <th>3</th>\n",
       "      <td>t2m</td>\n",
       "      <td>alaska</td>\n",
       "      <td>alaska</td>\n",
       "      <td>True</td>\n",
       "      <td>2004-10-08</td>\n",
       "      <td>2014-09-20</td>\n",
       "      <td>2.123</td>\n",
       "    </tr>\n",
       "    <tr>\n",
       "      <th>4</th>\n",
       "      <td>t2m</td>\n",
       "      <td>alaska</td>\n",
       "      <td>alaska</td>\n",
       "      <td>True</td>\n",
       "      <td>2004-10-08</td>\n",
       "      <td>2020-10-11</td>\n",
       "      <td>2.169</td>\n",
       "    </tr>\n",
       "  </tbody>\n",
       "</table>\n",
       "</div>"
      ],
      "text/plain": [
       "  variable search_domain forecast_domain  anomaly_search reference_date  \\\n",
       "0      t2m        alaska          alaska            True     2004-10-08   \n",
       "1      t2m        alaska          alaska            True     2004-10-08   \n",
       "2      t2m        alaska          alaska            True     2004-10-08   \n",
       "3      t2m        alaska          alaska            True     2004-10-08   \n",
       "4      t2m        alaska          alaska            True     2004-10-08   \n",
       "\n",
       "  analog_date  analog_score  \n",
       "0  2005-09-17         1.856  \n",
       "1  1997-09-09         1.979  \n",
       "2  2007-08-31         2.111  \n",
       "3  2014-09-20         2.123  \n",
       "4  2020-10-11         2.169  "
      ]
     },
     "execution_count": 113,
     "metadata": {},
     "output_type": "execute_result"
    }
   ],
   "source": [
    "varname = \"t2m\"\n",
    "ref_date = \"2004-10-08\"\n",
    "search_domain = forecast_domain = \"alaska\"\n",
    "trial_analogs = analog_dates.query((\n",
    "    \"variable == @varname & search_domain == @search_domain & \"\n",
    "    \"forecast_domain == @forecast_domain & reference_date == @ref_date & anomaly_search == True\"\n",
    "))\n",
    "trial_analogs"
   ]
  },
  {
   "cell_type": "code",
   "execution_count": 67,
   "id": "6017b832-d6f8-4bba-813b-b1c26026d009",
   "metadata": {},
   "outputs": [
    {
     "name": "stdout",
     "output_type": "stream",
     "text": [
      "CPU times: user 645 ms, sys: 11.6 s, total: 12.2 s\n",
      "Wall time: 53.1 s\n"
     ]
    }
   ],
   "source": [
    "%%time\n",
    "anom_ds = xr.open_dataset(data_dir.joinpath(\"era5_2m_temperature_anom_1959_2021.nc\"))\n",
    "search_bbox = luts.spatial_domains[search_domain][\"bbox\"]\n",
    "search_da = af.spatial_subset(anom_ds[varname], search_bbox).load()"
   ]
  },
  {
   "cell_type": "code",
   "execution_count": 102,
   "id": "74c29615-4b36-46d0-9673-fe136d277277",
   "metadata": {},
   "outputs": [
    {
     "name": "stdout",
     "output_type": "stream",
     "text": [
      "CPU times: user 2.99 s, sys: 3.45 s, total: 6.44 s\n",
      "Wall time: 6.44 s\n"
     ]
    }
   ],
   "source": [
    "%%time\n",
    "test_analogs = af.find_analogs(search_da, ref_date=ref_date)"
   ]
  },
  {
   "cell_type": "markdown",
   "id": "2326e187-6763-46c2-b672-eb0fb931f1f1",
   "metadata": {},
   "source": [
    "Verify that the top analogs match from the profiling runs:"
   ]
  },
  {
   "cell_type": "code",
   "execution_count": 126,
   "id": "79cd4200-9a5c-4dea-8596-fae1a259ac23",
   "metadata": {},
   "outputs": [],
   "source": [
    "assert np.all(test_analogs.values.round(3) == trial_analogs[\"analog_score\"])\n",
    "assert np.all(test_analogs.time.dt.strftime(\"%Y-%m-%d\").values == trial_analogs[\"analog_date\"])"
   ]
  },
  {
   "cell_type": "markdown",
   "id": "0f66d9d4-ab85-4f61-b412-f09e432a9c80",
   "metadata": {},
   "source": [
    "Encapsulate this test in a function and run it for other trials:"
   ]
  },
  {
   "cell_type": "code",
   "execution_count": 131,
   "id": "6117519b-3827-489a-9ef2-57f8c586247e",
   "metadata": {},
   "outputs": [],
   "source": [
    "def validate_dates(varname, ref_date, search_domain, forecast_domain, anom_search):\n",
    "    trial_analogs = analog_dates.query((\n",
    "        \"variable == @varname & search_domain == @search_domain & \"\n",
    "        \"forecast_domain == @forecast_domain & \"\n",
    "        \"reference_date == @ref_date & anomaly_search == @anom_search\"\n",
    "    ))\n",
    "    \n",
    "    search_bbox = luts.spatial_domains[search_domain][\"bbox\"]\n",
    "    forecast_bbox = luts.spatial_domains[forecast_domain][\"bbox\"]\n",
    "    \n",
    "    if anom_search == True:\n",
    "        search_ds = xr.open_dataset(data_dir.joinpath(luts.varnames_lu[varname][\"anom_filename\"]))\n",
    "        search_da = af.spatial_subset(search_ds[varname], search_bbox)\n",
    "        raw_ds = xr.open_dataset(data_dir.joinpath(luts.varnames_lu[varname][\"filename\"]))\n",
    "        raw_da = af.spatial_subset(raw_ds[varname], forecast_bbox)\n",
    "    else:\n",
    "        search_ds = xr.open_dataset(data_dir.joinpath(luts.varnames_lu[varname][\"filename\"]))\n",
    "        search_da = raw_da = af.spatial_subset(search_ds[varname], search_bbox)\n",
    "        \n",
    "    test_analogs = af.find_analogs(search_da, ref_date=ref_date)\n",
    "    \n",
    "    assert np.all(test_analogs.values.round(3) == trial_analogs[\"analog_score\"])\n",
    "    assert np.all(test_analogs.time.dt.strftime(\"%Y-%m-%d\").values == trial_analogs[\"analog_date\"])\n",
    "    print(\"Pass\")\n",
    "        "
   ]
  },
  {
   "cell_type": "code",
   "execution_count": 132,
   "id": "3d8a4a09-8edb-45eb-8952-5d8e897654a4",
   "metadata": {},
   "outputs": [
    {
     "name": "stdout",
     "output_type": "stream",
     "text": [
      "Pass\n",
      "CPU times: user 41.3 s, sys: 50.5 s, total: 1min 31s\n",
      "Wall time: 1min 31s\n"
     ]
    }
   ],
   "source": [
    "%%time\n",
    "validate_dates(\"t2m\", \"2011-11-04\", \"north_pacific\", \"alaska\", False)"
   ]
  },
  {
   "cell_type": "code",
   "execution_count": 134,
   "id": "38306591-c991-4f50-9d11-92f5ae6ab7eb",
   "metadata": {},
   "outputs": [
    {
     "name": "stdout",
     "output_type": "stream",
     "text": [
      "Pass\n",
      "CPU times: user 25.2 s, sys: 45.1 s, total: 1min 10s\n",
      "Wall time: 2min 6s\n"
     ]
    }
   ],
   "source": [
    "%%time\n",
    "validate_dates(\"sst\", \"2004-10-15\", \"panarctic\", \"alaska\", True)"
   ]
  },
  {
   "cell_type": "code",
   "execution_count": 135,
   "id": "28d9936b-cc62-46be-9607-3715b07e9c9c",
   "metadata": {},
   "outputs": [
    {
     "name": "stdout",
     "output_type": "stream",
     "text": [
      "Pass\n",
      "CPU times: user 53.5 s, sys: 1min 39s, total: 2min 33s\n",
      "Wall time: 2min 45s\n"
     ]
    }
   ],
   "source": [
    "%%time\n",
    "validate_dates(\"msl\", \"2015-11-20\", \"northern_hs\", \"northern_hs\", True)"
   ]
  },
  {
   "cell_type": "markdown",
   "id": "cfa0c74e-2dc5-47f2-88f8-d2a5abad5b5b",
   "metadata": {},
   "source": [
    "### Naive forecast\n",
    "\n",
    "Here we will check the naive forecast. Choose a particular forecast:"
   ]
  },
  {
   "cell_type": "code",
   "execution_count": 19,
   "id": "4535fd22-bf7b-4beb-a3f7-5019ac9892ed",
   "metadata": {},
   "outputs": [
    {
     "data": {
      "text/html": [
       "<div>\n",
       "<style scoped>\n",
       "    .dataframe tbody tr th:only-of-type {\n",
       "        vertical-align: middle;\n",
       "    }\n",
       "\n",
       "    .dataframe tbody tr th {\n",
       "        vertical-align: top;\n",
       "    }\n",
       "\n",
       "    .dataframe thead th {\n",
       "        text-align: right;\n",
       "    }\n",
       "</style>\n",
       "<table border=\"1\" class=\"dataframe\">\n",
       "  <thead>\n",
       "    <tr style=\"text-align: right;\">\n",
       "      <th></th>\n",
       "      <th>variable</th>\n",
       "      <th>forecast_domain</th>\n",
       "      <th>reference_date</th>\n",
       "      <th>forecast_day_number</th>\n",
       "      <th>naive_2.5</th>\n",
       "      <th>naive_50</th>\n",
       "      <th>naive_97.5</th>\n",
       "    </tr>\n",
       "  </thead>\n",
       "  <tbody>\n",
       "    <tr>\n",
       "      <th>98</th>\n",
       "      <td>t2m</td>\n",
       "      <td>alaska</td>\n",
       "      <td>2011-11-06</td>\n",
       "      <td>1</td>\n",
       "      <td>2.934</td>\n",
       "      <td>4.066</td>\n",
       "      <td>6.874</td>\n",
       "    </tr>\n",
       "    <tr>\n",
       "      <th>99</th>\n",
       "      <td>t2m</td>\n",
       "      <td>alaska</td>\n",
       "      <td>2011-11-06</td>\n",
       "      <td>2</td>\n",
       "      <td>3.855</td>\n",
       "      <td>5.105</td>\n",
       "      <td>7.610</td>\n",
       "    </tr>\n",
       "    <tr>\n",
       "      <th>100</th>\n",
       "      <td>t2m</td>\n",
       "      <td>alaska</td>\n",
       "      <td>2011-11-06</td>\n",
       "      <td>3</td>\n",
       "      <td>3.939</td>\n",
       "      <td>5.151</td>\n",
       "      <td>7.489</td>\n",
       "    </tr>\n",
       "    <tr>\n",
       "      <th>101</th>\n",
       "      <td>t2m</td>\n",
       "      <td>alaska</td>\n",
       "      <td>2011-11-06</td>\n",
       "      <td>4</td>\n",
       "      <td>3.350</td>\n",
       "      <td>4.525</td>\n",
       "      <td>7.317</td>\n",
       "    </tr>\n",
       "    <tr>\n",
       "      <th>102</th>\n",
       "      <td>t2m</td>\n",
       "      <td>alaska</td>\n",
       "      <td>2011-11-06</td>\n",
       "      <td>5</td>\n",
       "      <td>3.358</td>\n",
       "      <td>4.340</td>\n",
       "      <td>7.248</td>\n",
       "    </tr>\n",
       "  </tbody>\n",
       "</table>\n",
       "</div>"
      ],
      "text/plain": [
       "    variable forecast_domain reference_date  forecast_day_number  naive_2.5  \\\n",
       "98       t2m          alaska     2011-11-06                    1      2.934   \n",
       "99       t2m          alaska     2011-11-06                    2      3.855   \n",
       "100      t2m          alaska     2011-11-06                    3      3.939   \n",
       "101      t2m          alaska     2011-11-06                    4      3.350   \n",
       "102      t2m          alaska     2011-11-06                    5      3.358   \n",
       "\n",
       "     naive_50  naive_97.5  \n",
       "98      4.066       6.874  \n",
       "99      5.105       7.610  \n",
       "100     5.151       7.489  \n",
       "101     4.525       7.317  \n",
       "102     4.340       7.248  "
      ]
     },
     "execution_count": 19,
     "metadata": {},
     "output_type": "execute_result"
    }
   ],
   "source": [
    "varname = \"t2m\"\n",
    "forecast_domain = \"alaska\"\n",
    "ref_date = \"2011-11-06\"\n",
    "query_str = \"forecast_domain == @forecast_domain & variable == @varname & reference_date == @ref_date\"\n",
    "naive_df.query(query_str).head()"
   ]
  },
  {
   "cell_type": "code",
   "execution_count": 20,
   "id": "30ae6c63-c68c-4356-ba9b-d01ee244db98",
   "metadata": {},
   "outputs": [],
   "source": [
    "raw_ds = xr.open_dataset(data_dir.joinpath(luts.varnames_lu[varname][\"filename\"]))\n",
    "forecast_bbox = luts.spatial_domains[forecast_domain][\"bbox\"]\n",
    "raw_da = af.spatial_subset(raw_ds[varname], forecast_bbox)"
   ]
  },
  {
   "cell_type": "markdown",
   "id": "40917e00-2d68-463e-91a7-9a1605639ff4",
   "metadata": {},
   "source": [
    "Get the naive sample dates:"
   ]
  },
  {
   "cell_type": "code",
   "execution_count": 21,
   "id": "bafbd65f-7d5d-41f1-b072-20023a08a31a",
   "metadata": {},
   "outputs": [],
   "source": [
    "naive_sample_dates = get_naive_sample_dates(raw_da.time.values, ref_date, n=1000)"
   ]
  },
  {
   "cell_type": "markdown",
   "id": "e11783e2-68c7-47c5-8250-770b0fd4d36e",
   "metadata": {},
   "source": [
    "Check that all naive sample analog dates are within 90-day window centered on the day-of-year of the reference date."
   ]
  },
  {
   "cell_type": "code",
   "execution_count": 22,
   "id": "04a0dfec-9d73-4434-b0d8-c5d630a8a3bb",
   "metadata": {},
   "outputs": [],
   "source": [
    "ref_doy = pd.to_datetime(ref_date).dayofyear\n",
    "valid_doys = np.arange(ref_doy - 46, ref_doy + 46) # window is extended by day on each side in case of leap year\n",
    "\n",
    "assert np.all([\n",
    "    sample_analog in valid_doys \n",
    "    for rep in naive_sample_dates \n",
    "    for sample_analog in pd.to_datetime(naive_sample_dates[rep][\"analogs\"]).dayofyear\n",
    "])"
   ]
  },
  {
   "cell_type": "markdown",
   "id": "1898ed0b-d2bf-4556-b2ae-516f92965ce5",
   "metadata": {},
   "source": [
    "Compute forecasts for each repetition in naive_sample_dates:"
   ]
  },
  {
   "cell_type": "code",
   "execution_count": 24,
   "id": "6f6d8ce9-dec0-4571-800e-2e4c07b30b86",
   "metadata": {},
   "outputs": [
    {
     "name": "stdout",
     "output_type": "stream",
     "text": [
      "CPU times: user 26.7 s, sys: 16.5 s, total: 43.3 s\n",
      "Wall time: 53.5 s\n"
     ]
    }
   ],
   "source": [
    "%%time\n",
    "results = [\n",
    "    forecast_and_error(\n",
    "        raw_da.sel(time=naive_sample_dates[rep][\"all_dates\"]),\n",
    "        naive_sample_dates[rep][\"analogs\"],\n",
    "        ref_date,\n",
    "    )\n",
    "    for rep in naive_sample_dates\n",
    "]"
   ]
  },
  {
   "cell_type": "markdown",
   "id": "f70928f3-3645-4498-974c-55e60fc13434",
   "metadata": {},
   "source": [
    "Then summarize the error by computing the 2.5, 50, and 97.5 percentiles of error for each forecast day, like what is done for the profiling script:"
   ]
  },
  {
   "cell_type": "code",
   "execution_count": 25,
   "id": "a22753c2-ea1f-4931-9152-3a50cf50c6e5",
   "metadata": {},
   "outputs": [],
   "source": [
    "sim_rmse = xr.concat(results, pd.Index(range(1000), name=\"sim\"))\n",
    "\n",
    "ref_err_df = pd.DataFrame({\n",
    "    \"variable\": raw_da.name,\n",
    "    \"forecast_domain\": forecast_domain,\n",
    "    \"reference_date\": ref_date,\n",
    "    \"forecast_day_number\": np.arange(14) + 1,\n",
    "    \"naive_2.5\": sim_rmse.reduce(np.percentile, dim=\"sim\", q=2.5),\n",
    "    \"naive_50\": sim_rmse.reduce(np.percentile, dim=\"sim\", q=50),\n",
    "    \"naive_97.5\": sim_rmse.reduce(np.percentile, dim=\"sim\", q=97.5),\n",
    "})"
   ]
  },
  {
   "cell_type": "markdown",
   "id": "42000ce4-6473-40cb-a3c0-387fd966e231",
   "metadata": {},
   "source": [
    "Plot the differences between the profiling results and these newly computed values for each percentile. We want to see a mean of (probably?) about zero with the largest differences being small (<10% of percentile values?)."
   ]
  },
  {
   "cell_type": "code",
   "execution_count": 41,
   "id": "b77f7423-b3c9-449a-acf4-e2a88e665f8a",
   "metadata": {},
   "outputs": [
    {
     "data": {
      "text/plain": [
       "<AxesSubplot: >"
      ]
     },
     "execution_count": 41,
     "metadata": {},
     "output_type": "execute_result"
    },
    {
     "data": {
      "image/png": "[encoded data removed]",
      "text/plain": [
       "<Figure size 640x480 with 1 Axes>"
      ]
     },
     "metadata": {},
     "output_type": "display_data"
    }
   ],
   "source": [
    "pcols = [\"naive_2.5\", \"naive_50\", \"naive_97.5\"]\n",
    "(ref_err_df[pcols] - naive_df.query(query_str).reset_index(drop=True))[pcols].plot()"
   ]
  },
  {
   "cell_type": "markdown",
   "id": "9fbd2360-4296-436f-bfeb-6788f12177e6",
   "metadata": {},
   "source": [
    "Okay, I think this is a good sign for our naive profiling results."
   ]
  }
 ],
 "metadata": {
  "kernelspec": {
   "display_name": "Python 3 (ipykernel)",
   "language": "python",
   "name": "python3"
  },
  "language_info": {
   "codemirror_mode": {
    "name": "ipython",
    "version": 3
   },
   "file_extension": ".py",
   "mimetype": "text/x-python",
   "name": "python",
   "nbconvert_exporter": "python",
   "pygments_lexer": "ipython3",
   "version": "3.9.15"
  }
 },
 "nbformat": 4,
 "nbformat_minor": 5
}
